{
 "cells": [
  {
   "cell_type": "code",
   "execution_count": 3,
   "id": "0e87ff7d",
   "metadata": {},
   "outputs": [
    {
     "name": "stdout",
     "output_type": "stream",
     "text": [
      "3\n",
      "76\n",
      "29\n",
      "1091\n"
     ]
    }
   ],
   "source": [
    "from gpt_utility import stratify, structure_training_set_from_list\n",
    "#structure training set\n",
    "structured_training_set_path = 'input/train.jsonl'\n",
    "d = stratify('data/train_set.csv')\n",
    "structure_training_set_from_list(d,structured_training_set_path)"
   ]
  },
  {
   "cell_type": "code",
   "execution_count": 5,
   "id": "32dc59ce",
   "metadata": {},
   "outputs": [
    {
     "name": "stdout",
     "output_type": "stream",
     "text": [
      "File uploaded successfully! File ID: file-E9Vnm1QWjN8HzviGDPRo2m\n"
     ]
    }
   ],
   "source": [
    "import requests\n",
    "import os\n",
    "import json\n",
    "#TODO: define the API key\n",
    "#TODO: upload file pii_detected_train.jsonl to google colab\n",
    "with open('input/secret.json', 'r', encoding='UTF-8') as file:\n",
    "    secret_json = json.load(file)\n",
    "api_key = secret_json['OPENAI_API_KEY']\n",
    "# client = OpenAI(api_key=api_key)\n",
    "\n",
    "# api_key = None\n",
    "\n",
    "# Define headers for the upload request\n",
    "headers = {\n",
    "    \"Authorization\": f\"Bearer {api_key}\"\n",
    "}\n",
    "\n",
    "# File upload request URL\n",
    "upload_url = \"https://api.openai.com/v1/files\"\n",
    "file_path = 'input/train_new.jsonl'  # Change this to the actual file path\n",
    "\n",
    "# Open the file in binary mode\n",
    "with open(file_path, 'rb') as f:\n",
    "    # Make the file upload request\n",
    "    response = requests.post(upload_url, headers=headers, files={\n",
    "        'file': (os.path.basename(file_path), f, 'application/json')\n",
    "    }, data={\n",
    "        \"purpose\": \"fine-tune\"\n",
    "    })\n",
    "\n",
    "# Check if file upload was successful\n",
    "if response.status_code == 200:\n",
    "    upload_response = response.json()\n",
    "    file_id = upload_response['id']  # The uploaded file ID\n",
    "    print(f\"File uploaded successfully! File ID: {file_id}\")\n",
    "else:\n",
    "    print(f\"File upload failed. Status code: {response.status_code}\")\n",
    "    print(\"Response:\", response.text)"
   ]
  },
  {
   "cell_type": "code",
   "execution_count": 6,
   "id": "e72ec489",
   "metadata": {},
   "outputs": [
    {
     "name": "stdout",
     "output_type": "stream",
     "text": [
      "Fine-tuning request submitted successfully!\n",
      "Response: {'object': 'fine_tuning.job', 'id': 'ftjob-wyuSjRe9WIN5qvXe93wufwG9', 'model': 'gpt-4o-mini-2024-07-18', 'created_at': 1753071353, 'finished_at': None, 'fine_tuned_model': None, 'organization_id': 'org-okg2CRfiQn8iBsrlTRIZdan9', 'result_files': [], 'status': 'validating_files', 'validation_file': None, 'training_file': 'file-E9Vnm1QWjN8HzviGDPRo2m', 'hyperparameters': {'n_epochs': 2, 'batch_size': 1, 'learning_rate_multiplier': 1.8}, 'trained_tokens': None, 'error': {}, 'user_provided_suffix': None, 'seed': 1296989007, 'estimated_finish': None, 'integrations': [], 'metadata': None, 'usage_metrics': None, 'shared_with_openai': False, 'eval_id': None, 'method': {'type': 'supervised', 'supervised': {'hyperparameters': {'batch_size': 1, 'learning_rate_multiplier': 1.8, 'n_epochs': 2}}}}\n"
     ]
    }
   ],
   "source": [
    "import requests\n",
    "import json\n",
    "#TODO: update file_id to what is given to you by running the above script\n",
    "#TODO: choose model between gpt-4o-mini-2024-07-18 or gpt-4o-2024-08-06 by changing the model field of fine_tune_data\n",
    "\n",
    "\n",
    "# Define headers for the fine-tuning request\n",
    "headers = {\n",
    "    \"Authorization\": f\"Bearer {api_key}\",\n",
    "    \"Content-Type\": \"application/json\"\n",
    "}\n",
    "\n",
    "# Fine-tuning request URL\n",
    "fine_tune_url = \"https://api.openai.com/v1/fine_tuning/jobs\"\n",
    "\n",
    "# Replace this with the file ID from the previous upload step\n",
    "file_id = \"file-E9Vnm1QWjN8HzviGDPRo2m\"\n",
    "\n",
    "# Prepare the payload for fine-tuning\n",
    "fine_tune_data = {\n",
    "    \"training_file\": file_id,  # Use the file_id from the upload response\n",
    "    # Replace model below with your desired base model\n",
    "\n",
    "    \"model\": \"gpt-4o-mini-2024-07-18\",  # Model Choice 2: the plain GPT-4o-mini model\n",
    "     \"hyperparameters\": {\n",
    "         \"n_epochs\": 2,  # You can adjust the number of epochs\n",
    "         \"batch_size\": 1,\n",
    "            \"learning_rate_multiplier\": 1.8,\n",
    "\n",
    "     }\n",
    "}\n",
    "\n",
    "# Send the fine-tuning request\n",
    "response = requests.post(fine_tune_url, headers=headers, data=json.dumps(fine_tune_data))\n",
    "\n",
    "# Check if the fine-tuning request was successful\n",
    "if response.status_code == 200:\n",
    "    print(\"Fine-tuning request submitted successfully!\")\n",
    "    print(\"Response:\", response.json())\n",
    "else:\n",
    "    print(f\"Failed to submit fine-tuning request. Status code: {response.status_code}\")\n",
    "    print(\"Response:\", response.text)"
   ]
  },
  {
   "cell_type": "code",
   "execution_count": 7,
   "id": "21eb5377",
   "metadata": {},
   "outputs": [
    {
     "name": "stdout",
     "output_type": "stream",
     "text": [
      "Fine-tuning job details retrieved successfully!\n",
      "Response: {'object': 'fine_tuning.job', 'id': 'ftjob-wyuSjRe9WIN5qvXe93wufwG9', 'model': 'gpt-4o-mini-2024-07-18', 'created_at': 1753071353, 'finished_at': None, 'fine_tuned_model': None, 'organization_id': 'org-okg2CRfiQn8iBsrlTRIZdan9', 'result_files': [], 'status': 'validating_files', 'validation_file': None, 'training_file': 'file-E9Vnm1QWjN8HzviGDPRo2m', 'hyperparameters': {'n_epochs': 2, 'batch_size': 1, 'learning_rate_multiplier': 1.8}, 'trained_tokens': None, 'error': {}, 'user_provided_suffix': None, 'seed': 1296989007, 'estimated_finish': None, 'integrations': [], 'metadata': None, 'usage_metrics': None, 'shared_with_openai': False, 'eval_id': None, 'method': {'type': 'supervised', 'supervised': {'hyperparameters': {'n_epochs': 2, 'batch_size': 1, 'learning_rate_multiplier': 1.8}}}}\n"
     ]
    }
   ],
   "source": [
    "#TODO: change fine_tune_job_id to the actual id provided by above script\n",
    "#TODO: add the api_key when running this script again after a few hours\n",
    "\n",
    "#api_key = None\n",
    "# Define headers for the request\n",
    "headers = {\n",
    "    \"Authorization\": f\"Bearer {api_key}\"\n",
    "}\n",
    "\n",
    "# Replace this with the actual fine-tuning job ID\n",
    "# fine_tune_job_id = \"ftjob-UQuGk72OBKAm0bPZ8J7j7Aez\" # Model Choice 1\n",
    "fine_tune_job_id = \"ftjob-wyuSjRe9WIN5qvXe93wufwG9\" # Model Choice 2\n",
    "\n",
    "# Define the URL for getting the status of the fine-tuning job\n",
    "url = f\"https://api.openai.com/v1/fine_tuning/jobs/{fine_tune_job_id}\"\n",
    "\n",
    "# Send the GET request\n",
    "response = requests.get(url, headers=headers)\n",
    "\n",
    "# Check if the request was successful\n",
    "if response.status_code == 200:\n",
    "    print(\"Fine-tuning job details retrieved successfully!\")\n",
    "    print(\"Response:\", response.json())\n",
    "else:\n",
    "    print(f\"Failed to retrieve fine-tuning job details. Status code: {response.status_code}\")\n",
    "    print(\"Response:\", response.text)\n"
   ]
  }
 ],
 "metadata": {
  "kernelspec": {
   "display_name": "pvc",
   "language": "python",
   "name": "python3"
  },
  "language_info": {
   "codemirror_mode": {
    "name": "ipython",
    "version": 3
   },
   "file_extension": ".py",
   "mimetype": "text/x-python",
   "name": "python",
   "nbconvert_exporter": "python",
   "pygments_lexer": "ipython3",
   "version": "3.13.5"
  }
 },
 "nbformat": 4,
 "nbformat_minor": 5
}
