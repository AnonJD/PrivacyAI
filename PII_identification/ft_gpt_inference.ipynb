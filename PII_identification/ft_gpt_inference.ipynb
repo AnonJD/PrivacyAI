{
 "cells": [
  {
   "cell_type": "code",
   "execution_count": 1,
   "id": "e336cc5d",
   "metadata": {},
   "outputs": [
    {
     "name": "stdout",
     "output_type": "stream",
     "text": [
      "finish writing batch file: output/ft_test.jsonl\n"
     ]
    }
   ],
   "source": [
    "\n",
    "from gpt_utility import mkTrainingBatch_ft, get_testing_list, save_file_response_as_jsonl, read_jsonl_file, parse_gpt_result, client,read_csv\n",
    "model = '[Your finetuned gpt model]'\n",
    "testing_index_list = get_testing_list('data/test_indices.txt')\n",
    "testing_index_list2 = get_testing_list('data/test_indices_2.txt')\n",
    "mkTrainingBatch_ft(testing_index_list,model,'output/ft_test')"
   ]
  },
  {
   "cell_type": "code",
   "execution_count": null,
   "id": "3b0d6963",
   "metadata": {},
   "outputs": [],
   "source": [
    "#Submit batched input to gpt api.\n",
    "batch_input_file = client.files.create(\n",
    "  file=open(\"output/ft_test.jsonl\", \"rb\"),\n",
    "  purpose=\"batch\"\n",
    ")\n",
    "batch_input_file_id = batch_input_file.id\n",
    "\n",
    "client.batches.create(\n",
    "    input_file_id=batch_input_file_id,\n",
    "    endpoint=\"/v1/chat/completions\",\n",
    "    completion_window=\"24h\",\n",
    "    metadata={\n",
    "      \"description\": \"nightly eval job\"\n",
    "    })\n",
    "#You will recieve a Batch object from OpenAI, note the content in field 'id'"
   ]
  },
  {
   "cell_type": "code",
   "execution_count": null,
   "id": "9452a535",
   "metadata": {},
   "outputs": [],
   "source": [
    "client.batches.retrieve('[ID_HERE]') #[ID_HERE]\n",
    "#Call to check the status of data processing, once status='completed', note the content in output_file_id field."
   ]
  },
  {
   "cell_type": "code",
   "execution_count": null,
   "id": "68a2c25e",
   "metadata": {},
   "outputs": [],
   "source": [
    "file_response = client.files.content('[OUTPUT_FILE_ID_HERE]') #\"[OUTPUT_FILE_ID_HERE]\""
   ]
  },
  {
   "cell_type": "code",
   "execution_count": null,
   "id": "fec26587",
   "metadata": {},
   "outputs": [],
   "source": [
    "save_file_response_as_jsonl(file_response, 'output/batch_request_ft.jsonl')\n",
    "prompted_result = read_jsonl_file('output/batch_request_ft.jsonl')\n",
    "parse_gpt_result(prompted_result, 'output/pii_ft_detected.csv')\n",
    "\n",
    "\n",
    "response_all = read_csv('output/batch_response.csv')\n",
    "filtered_df = response_all[response_all['file_idx'].isin(testing_index_list2)]\n",
    "filtered_df.to_csv('output/pii_ft_detected_2.csv', index=False)"
   ]
  }
 ],
 "metadata": {
  "kernelspec": {
   "display_name": "pvc",
   "language": "python",
   "name": "python3"
  },
  "language_info": {
   "codemirror_mode": {
    "name": "ipython",
    "version": 3
   },
   "file_extension": ".py",
   "mimetype": "text/x-python",
   "name": "python",
   "nbconvert_exporter": "python",
   "pygments_lexer": "ipython3",
   "version": "3.13.5"
  }
 },
 "nbformat": 4,
 "nbformat_minor": 5
}
