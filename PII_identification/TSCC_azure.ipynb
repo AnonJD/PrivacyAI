{
 "cells": [
  {
   "cell_type": "code",
   "execution_count": 1,
   "id": "81d669e2",
   "metadata": {},
   "outputs": [],
   "source": [
    "import json\n",
    "with open('output/new_texts_FN.txt', 'r') as f:\n",
    "    input_texts = json.load(f)"
   ]
  },
  {
   "cell_type": "code",
   "execution_count": null,
   "id": "3961e173",
   "metadata": {},
   "outputs": [],
   "source": [
    "from azure_utility import *\n",
    "from gpt_utility import read_json,get_testing_list\n",
    "import pandas as pd\n",
    "azure_storage_directory = \"azure_output_tscc\"\n",
    "\n",
    "identifier_list = [f'doc{i}' for i in range(len(input_texts))]\n",
    "#then, first call the below to send request for azure pii detection, and stores the request infromation in the directory provided above\n",
    "process_texts(input_texts, identifier_list, azure_storage_directory)"
   ]
  },
  {
   "cell_type": "code",
   "execution_count": null,
   "id": "12778429",
   "metadata": {},
   "outputs": [],
   "source": [
    "check_jobs_and_retrieve_results(azure_storage_directory)"
   ]
  },
  {
   "cell_type": "code",
   "execution_count": null,
   "id": "c23a2bc1",
   "metadata": {},
   "outputs": [],
   "source": [
    "detected_entities = extract_entities_azure_tscc(r'azure_output/azure_output_results.json')"
   ]
  },
  {
   "cell_type": "code",
   "execution_count": null,
   "id": "e1e24ddc",
   "metadata": {},
   "outputs": [],
   "source": [
    "df = pd.DataFrame(detected_entities, columns=['file_idx', 'entity_text', 'positions'])\n",
    "output_file = 'output/TSCC_detected_azure.csv'\n",
    "df.to_csv(output_file, index=False)\n",
    "print(f\"CSV file saved as {output_file}\")"
   ]
  }
 ],
 "metadata": {
  "kernelspec": {
   "display_name": "pvc",
   "language": "python",
   "name": "python3"
  },
  "language_info": {
   "codemirror_mode": {
    "name": "ipython",
    "version": 3
   },
   "file_extension": ".py",
   "mimetype": "text/x-python",
   "name": "python",
   "nbconvert_exporter": "python",
   "pygments_lexer": "ipython3",
   "version": "3.13.5"
  }
 },
 "nbformat": 4,
 "nbformat_minor": 5
}
