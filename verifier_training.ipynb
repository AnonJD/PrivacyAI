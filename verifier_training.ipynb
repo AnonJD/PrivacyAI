{
 "cells": [
  {
   "cell_type": "code",
   "execution_count": 1,
   "id": "31facd8b",
   "metadata": {},
   "outputs": [],
   "source": [
    "import csv \n",
    "from gpt_utility import read_json, read_csv \n",
    "from verifier_utility import *"
   ]
  },
  {
   "cell_type": "code",
   "execution_count": 1,
   "id": "a2684708",
   "metadata": {},
   "outputs": [
    {
     "data": {
      "text/plain": [
       "[]"
      ]
     },
     "execution_count": 1,
     "metadata": {},
     "output_type": "execute_result"
    }
   ],
   "source": [
    "\n",
    "create_experiment_jsonl('data/test_set_2.csv',read_json(),[25,50,100])"
   ]
  },
  {
   "cell_type": "code",
   "execution_count": null,
   "id": "c025259f",
   "metadata": {},
   "outputs": [],
   "source": []
  },
  {
   "cell_type": "code",
   "execution_count": null,
   "id": "eab7bdf1",
   "metadata": {},
   "outputs": [],
   "source": [
    "#Create COT fine_tuning batch\n",
    "make_verifier_train_set()\n",
    "training_df = read_csv('output/verifier_train.csv')\n",
    " \n",
    "generate_cot_train(training_df)"
   ]
  },
  {
   "cell_type": "code",
   "execution_count": null,
   "id": "37b7fa58",
   "metadata": {},
   "outputs": [],
   "source": [
    "#Create NCOT fine_tuning batch\n",
    "training_df = read_csv('output/verifier_train.csv')\n",
    " \n",
    "generate_ncot_train(training_df)"
   ]
  },
  {
   "cell_type": "markdown",
   "id": "22ca6243",
   "metadata": {},
   "source": [
    "**Fine-tuning for COT**\n",
    "\n",
    "Change the file_path to output/ft_filter_cot.jsonl if training a COT verifier, change the file_path to output/ft_filter_ncot.jsonl if training a NCOT verifier."
   ]
  },
  {
   "cell_type": "code",
   "execution_count": 3,
   "id": "c137b18e",
   "metadata": {},
   "outputs": [
    {
     "name": "stdout",
     "output_type": "stream",
     "text": [
      "File uploaded successfully! File ID: file-BJkQig2CLVjB9ft5689dAk\n"
     ]
    }
   ],
   "source": [
    "\n",
    "import requests\n",
    "import os\n",
    "import json\n",
    "#TODO: define the API key\n",
    " \n",
    "with open('input/secret.json', 'r', encoding='UTF-8') as file:\n",
    "    secret_json = json.load(file)\n",
    "api_key = secret_json['OPENAI_API_KEY']\n",
    "# client = OpenAI(api_key=api_key)\n",
    "\n",
    " \n",
    "# Define headers for the upload request\n",
    "headers = {\n",
    "    \"Authorization\": f\"Bearer {api_key}\"\n",
    "}\n",
    "\n",
    "# File upload request URL\n",
    "upload_url = \"https://api.openai.com/v1/files\"\n",
    "file_path = 'output/ft_filter_cot.jsonl'  # Change this to the actual file path\n",
    "\n",
    "# Open the file in binary mode\n",
    "with open(file_path, 'rb') as f:\n",
    "    # Make the file upload request\n",
    "    response = requests.post(upload_url, headers=headers, files={\n",
    "        'file': (os.path.basename(file_path), f, 'application/json')\n",
    "    }, data={\n",
    "        \"purpose\": \"fine-tune\"\n",
    "    })\n",
    "\n",
    "# Check if file upload was successful\n",
    "if response.status_code == 200:\n",
    "    upload_response = response.json()\n",
    "    file_id = upload_response['id']  # The uploaded file ID\n",
    "    print(f\"File uploaded successfully! File ID: {file_id}\")\n",
    "else:\n",
    "    print(f\"File upload failed. Status code: {response.status_code}\")\n",
    "    print(\"Response:\", response.text)"
   ]
  },
  {
   "cell_type": "code",
   "execution_count": 4,
   "id": "2847491a",
   "metadata": {},
   "outputs": [
    {
     "name": "stdout",
     "output_type": "stream",
     "text": [
      "Fine-tuning request submitted successfully!\n",
      "Response: {'object': 'fine_tuning.job', 'id': 'ftjob-5kw1nkT1dzHtkiMlZmH8g7OH', 'model': 'gpt-4o-mini-2024-07-18', 'created_at': 1752794574, 'finished_at': None, 'fine_tuned_model': None, 'organization_id': 'org-okg2CRfiQn8iBsrlTRIZdan9', 'result_files': [], 'status': 'validating_files', 'validation_file': None, 'training_file': 'file-BJkQig2CLVjB9ft5689dAk', 'hyperparameters': {'n_epochs': 2, 'batch_size': 1, 'learning_rate_multiplier': 1.8}, 'trained_tokens': None, 'error': {}, 'user_provided_suffix': None, 'seed': 976191130, 'estimated_finish': None, 'integrations': [], 'metadata': None, 'usage_metrics': None, 'shared_with_openai': False, 'eval_id': None, 'method': {'type': 'supervised', 'supervised': {'hyperparameters': {'batch_size': 1, 'learning_rate_multiplier': 1.8, 'n_epochs': 2}}}}\n"
     ]
    }
   ],
   "source": [
    "import requests\n",
    "import json\n",
    "#TODO: update file_id to what is given to you by running the above script\n",
    "#TODO: choose model between gpt-4o-mini-2024-07-18 or gpt-4o-2024-08-06 by changing the model field of fine_tune_data\n",
    "\n",
    "\n",
    "headers = {\n",
    "    \"Authorization\": f\"Bearer {api_key}\",\n",
    "    \"Content-Type\": \"application/json\"\n",
    "}\n",
    "\n",
    "\n",
    "fine_tune_url = \"https://api.openai.com/v1/fine_tuning/jobs\"\n",
    "\n",
    "# Replace this with the file ID from the previous upload step\n",
    "file_id = \"file-BJkQig2CLVjB9ft5689dAk\"\n",
    "\n",
    "\n",
    "fine_tune_data = {\n",
    "    \"training_file\": file_id, \n",
    "\n",
    "\n",
    "    \"model\": \"gpt-4o-mini-2024-07-18\",  \n",
    "     \"hyperparameters\": {\n",
    "         \"n_epochs\": 2, \n",
    "         \"batch_size\": 1,\n",
    "            \"learning_rate_multiplier\": 1.8,\n",
    "\n",
    "     }\n",
    "}\n",
    "\n",
    "\n",
    "response = requests.post(fine_tune_url, headers=headers, data=json.dumps(fine_tune_data))\n",
    "\n",
    "# Check if the fine-tuning request was successful\n",
    "if response.status_code == 200:\n",
    "    print(\"Fine-tuning request submitted successfully!\")\n",
    "    print(\"Response:\", response.json())\n",
    "else:\n",
    "    print(f\"Failed to submit fine-tuning request. Status code: {response.status_code}\")\n",
    "    print(\"Response:\", response.text)"
   ]
  },
  {
   "cell_type": "code",
   "execution_count": 5,
   "id": "6fbfd14b",
   "metadata": {},
   "outputs": [
    {
     "name": "stdout",
     "output_type": "stream",
     "text": [
      "Fine-tuning job details retrieved successfully!\n",
      "Response: {'object': 'fine_tuning.job', 'id': 'ftjob-5kw1nkT1dzHtkiMlZmH8g7OH', 'model': 'gpt-4o-mini-2024-07-18', 'created_at': 1752794574, 'finished_at': None, 'fine_tuned_model': None, 'organization_id': 'org-okg2CRfiQn8iBsrlTRIZdan9', 'result_files': [], 'status': 'validating_files', 'validation_file': None, 'training_file': 'file-BJkQig2CLVjB9ft5689dAk', 'hyperparameters': {'n_epochs': 2, 'batch_size': 1, 'learning_rate_multiplier': 1.8}, 'trained_tokens': None, 'error': {}, 'user_provided_suffix': None, 'seed': 976191130, 'estimated_finish': None, 'integrations': [], 'metadata': None, 'usage_metrics': None, 'shared_with_openai': False, 'eval_id': None, 'method': {'type': 'supervised', 'supervised': {'hyperparameters': {'n_epochs': 2, 'batch_size': 1, 'learning_rate_multiplier': 1.8}}}}\n"
     ]
    }
   ],
   "source": [
    "#TODO: change fine_tune_job_id to the actual id provided by above script\n",
    "#TODO: add the api_key when running this script again after a few hours\n",
    "\n",
    "\n",
    "headers = {\n",
    "    \"Authorization\": f\"Bearer {api_key}\"\n",
    "}\n",
    "\n",
    "# Replace this with the actual fine-tuning job ID\n",
    "fine_tune_job_id = \"ftjob-5kw1nkT1dzHtkiMlZmH8g7OH\" # Model Choice 2\n",
    "\n",
    "\n",
    "url = f\"https://api.openai.com/v1/fine_tuning/jobs/{fine_tune_job_id}\"\n",
    "\n",
    "response = requests.get(url, headers=headers)\n",
    "\n",
    "if response.status_code == 200:\n",
    "    print(\"Fine-tuning job details retrieved successfully!\")\n",
    "    print(\"Response:\", response.json())\n",
    "else:\n",
    "    print(f\"Failed to retrieve fine-tuning job details. Status code: {response.status_code}\")\n",
    "    print(\"Response:\", response.text)"
   ]
  }
 ],
 "metadata": {
  "kernelspec": {
   "display_name": "pvc",
   "language": "python",
   "name": "python3"
  },
  "language_info": {
   "codemirror_mode": {
    "name": "ipython",
    "version": 3
   },
   "file_extension": ".py",
   "mimetype": "text/x-python",
   "name": "python",
   "nbconvert_exporter": "python",
   "pygments_lexer": "ipython3",
   "version": "3.13.5"
  }
 },
 "nbformat": 4,
 "nbformat_minor": 5
}
