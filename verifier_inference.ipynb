{
 "cells": [
  {
   "cell_type": "code",
   "execution_count": null,
   "id": "462f45e4",
   "metadata": {},
   "outputs": [],
   "source": [
    "from verifier_utility import create_jsonl_COT, create_jsonl_NCOT\n",
    "from gpt_utility import df,client,save_file_response_as_jsonl,read_jsonl_file, get_response_label,read_csv\n",
    "#create batches\n",
    "model_name_cot = '[Your model ID for COT]'\n",
    "model_name_ncot = '[Your model ID for NCOT]'\n",
    "create_jsonl_NCOT('output/pii_ft_detected_2.csv', df,model_name_ncot)\n",
    "create_jsonl_COT('output/pii_ft_detected_2.csv', df, model_name_cot)\n",
    "\n"
   ]
  },
  {
   "cell_type": "code",
   "execution_count": null,
   "id": "563f9197",
   "metadata": {},
   "outputs": [],
   "source": [
    "ncot_file_path = 'output/ft+ft_testing_ncot.jsonl'\n",
    "cot_file_path = 'output/ft+ft_testing_cot.jsonl'\n",
    "#This and next cell submit batch for ncot\n",
    "batch_input_file = client.files.create(\n",
    "  file=open(ncot_file_path, \"rb\"),\n",
    "  purpose=\"batch\"\n",
    ")\n",
    "batch_input_file_id = batch_input_file.id\n",
    "client.batches.create(\n",
    "    input_file_id=batch_input_file_id,\n",
    "    endpoint=\"/v1/chat/completions\",\n",
    "    completion_window=\"24h\",\n",
    "    metadata={\n",
    "      \"description\": \"nightly eval job\"\n",
    "    }\n",
    ")"
   ]
  },
  {
   "cell_type": "code",
   "execution_count": null,
   "id": "14537ef8",
   "metadata": {},
   "outputs": [],
   "source": [
    "client.batches.retrieve(\"[file_id here]\")"
   ]
  },
  {
   "cell_type": "code",
   "execution_count": null,
   "id": "bf0ec660",
   "metadata": {},
   "outputs": [],
   "source": [
    "#This and next cell submit batch for cot\n",
    "batch_input_file = client.files.create(\n",
    "  file=open(cot_file_path, \"rb\"),\n",
    "  purpose=\"batch\"\n",
    ")\n",
    "batch_input_file_id = batch_input_file.id\n",
    "client.batches.create(\n",
    "    input_file_id=batch_input_file_id,\n",
    "    endpoint=\"/v1/chat/completions\",\n",
    "    completion_window=\"24h\",\n",
    "    metadata={\n",
    "      \"description\": \"nightly eval job\"\n",
    "    }\n",
    ")"
   ]
  },
  {
   "cell_type": "code",
   "execution_count": null,
   "id": "c149857b",
   "metadata": {},
   "outputs": [],
   "source": [
    "client.batches.retrieve(\"[file_id here]\")"
   ]
  },
  {
   "cell_type": "code",
   "execution_count": null,
   "id": "2a136080",
   "metadata": {},
   "outputs": [],
   "source": [
    "#once the above two inferenece batch is completed, retreive them \n",
    "file_response_ncot = client.files.content('[id here]')\n",
    "file_response_cot = client.files.content('[id here]')\n",
    "save_file_response_as_jsonl(file_response_ncot, 'output/file_resp_ncot.jsonl')\n",
    "save_file_response_as_jsonl(file_response_cot, 'output/file_resp_cot.jsonl')\n",
    "json_lst_ncot = read_jsonl_file(file_response_ncot)\n",
    "json_lst_cot = read_jsonl_file(file_response_ncot)\n",
    "pii_ft_detected_2 = read_csv('output/pii_ft_detected_2.csv')\n",
    "\n",
    "\n",
    "def filter_detected_entities():\n",
    "    for json_lst in [json_lst_ncot, json_lst_cot]:\n",
    "        res_lst = []\n",
    "        for item in json_lst: \n",
    "            content = item['response']['body']['choices'][0]['message']['content']\n",
    "            label = get_response_label(content)\n",
    "            res_lst.append(label)\n",
    "        mask = [x == 'T' for x in res_lst]\n",
    "        filtered_df = pii_ft_detected_2[mask]\n",
    "\n",
    "        if json_lst == json_lst_ncot:\n",
    "            filtered_df.to_csv(f'output/pii_ft_detected_ncot.csv', index=False)\n",
    "        elif json_lst == json_lst_cot:\n",
    "            filtered_df.to_csv(f'output/pii_ft_detected_cot1.csv', index=False)\n",
    "filter_detected_entities()\n",
    "#save the result in .csv format.\n"
   ]
  }
 ],
 "metadata": {
  "language_info": {
   "name": "python"
  }
 },
 "nbformat": 4,
 "nbformat_minor": 5
}
