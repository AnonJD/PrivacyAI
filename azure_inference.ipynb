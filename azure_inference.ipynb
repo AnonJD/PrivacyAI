{
 "cells": [
  {
   "cell_type": "code",
   "execution_count": null,
   "id": "d069253a",
   "metadata": {},
   "outputs": [],
   "source": [
    "from azure_utility import *\n",
    "from gpt_utility import read_json,get_testing_list\n",
    "import pandas as pd\n",
    "\n",
    "df = read_json()\n",
    "test_indices = get_testing_list('data/test_indices_2.txt')\n",
    "input_texts = [df['full_text'][i] for i in test_indices]\n",
    "azure_storage_directory = \"azure_output\"\n",
    "identifier_list = [f'doc{i}' for i in range(len(input_texts))]\n",
    "\n",
    "#then, first call the below to send request for azure pii detection, and stores the request infromation in the directory provided above\n",
    "process_texts(input_texts, identifier_list, azure_storage_directory)"
   ]
  },
  {
   "cell_type": "code",
   "execution_count": null,
   "id": "6f9a5f4a",
   "metadata": {},
   "outputs": [],
   "source": [
    "check_jobs_and_retrieve_results(azure_storage_directory)"
   ]
  },
  {
   "cell_type": "code",
   "execution_count": null,
   "id": "273720d1",
   "metadata": {},
   "outputs": [],
   "source": [
    "detected_entities = extract_entities_azure(r'azure_output/azure_output_results.json')"
   ]
  },
  {
   "cell_type": "code",
   "execution_count": null,
   "id": "e321e868",
   "metadata": {},
   "outputs": [],
   "source": [
    "df = pd.DataFrame(detected_entities, columns=['file_idx','entity_text','type','positions'])\n",
    "output_file = 'output/pii_azure_detected.csv'\n",
    "df.to_csv(output_file, index=False)\n",
    "\n",
    "print(f\"CSV file saved as {output_file}\")"
   ]
  }
 ],
 "metadata": {
  "kernelspec": {
   "display_name": "pvc",
   "language": "python",
   "name": "python3"
  },
  "language_info": {
   "codemirror_mode": {
    "name": "ipython",
    "version": 3
   },
   "file_extension": ".py",
   "mimetype": "text/x-python",
   "name": "python",
   "nbconvert_exporter": "python",
   "pygments_lexer": "ipython3",
   "version": "3.13.5"
  }
 },
 "nbformat": 4,
 "nbformat_minor": 5
}
