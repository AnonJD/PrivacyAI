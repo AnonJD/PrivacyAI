{
 "cells": [
  {
   "cell_type": "code",
   "execution_count": 1,
   "id": "3ae5e3c6",
   "metadata": {},
   "outputs": [],
   "source": [
    "from gpt_utility import  mkTrainingBatch, get_testing_list, save_file_response_as_jsonl, read_jsonl_file, parse_gpt_result, client\n"
   ]
  },
  {
   "cell_type": "code",
   "execution_count": 2,
   "id": "73b4b902",
   "metadata": {},
   "outputs": [
    {
     "name": "stdout",
     "output_type": "stream",
     "text": [
      "finish writing batch file: output/prompt_test.jsonl\n"
     ]
    }
   ],
   "source": [
    "#Create batched input\n",
    "from gpt_utility import  mkTrainingBatch, get_testing_list, save_file_response_as_jsonl, read_jsonl_file, parse_gpt_result, client\n",
    "\n",
    "testing_index_list = get_testing_list('data/test_indices_2.txt')\n",
    "mkTrainingBatch(testing_index_list)\n"
   ]
  },
  {
   "cell_type": "code",
   "execution_count": 4,
   "id": "27cf7708",
   "metadata": {},
   "outputs": [
    {
     "data": {
      "text/plain": [
       "Batch(id='batch_687dbd826ff081909c5237ba6904947e', completion_window='24h', created_at=1753070978, endpoint='/v1/chat/completions', input_file_id='file-5KXcgYoiCDasCswGWAcS3Q', object='batch', status='validating', cancelled_at=None, cancelling_at=None, completed_at=None, error_file_id=None, errors=None, expired_at=None, expires_at=1753157378, failed_at=None, finalizing_at=None, in_progress_at=None, metadata={'description': 'nightly eval job'}, output_file_id=None, request_counts=BatchRequestCounts(completed=0, failed=0, total=0))"
      ]
     },
     "execution_count": 4,
     "metadata": {},
     "output_type": "execute_result"
    }
   ],
   "source": [
    "#Submit batched input to gpt api.\n",
    "batch_input_file = client.files.create(\n",
    "  file=open(\"output/prompt_test_new.jsonl\", \"rb\"),\n",
    "  purpose=\"batch\"\n",
    ")\n",
    "batch_input_file_id = batch_input_file.id\n",
    "\n",
    "client.batches.create(\n",
    "    input_file_id=batch_input_file_id,\n",
    "    endpoint=\"/v1/chat/completions\",\n",
    "    completion_window=\"24h\",\n",
    "    metadata={\n",
    "      \"description\": \"nightly eval job\"\n",
    "    })\n",
    "#You will recieve a Batch object from OpenAI, note the content in field 'id'"
   ]
  },
  {
   "cell_type": "code",
   "execution_count": 5,
   "id": "ff106b9e",
   "metadata": {},
   "outputs": [
    {
     "data": {
      "text/plain": [
       "Batch(id='batch_687dbd826ff081909c5237ba6904947e', completion_window='24h', created_at=1753070978, endpoint='/v1/chat/completions', input_file_id='file-5KXcgYoiCDasCswGWAcS3Q', object='batch', status='in_progress', cancelled_at=None, cancelling_at=None, completed_at=None, error_file_id=None, errors=None, expired_at=None, expires_at=1753157378, failed_at=None, finalizing_at=None, in_progress_at=1753070980, metadata={'description': 'nightly eval job'}, output_file_id=None, request_counts=BatchRequestCounts(completed=1, failed=0, total=50))"
      ]
     },
     "execution_count": 5,
     "metadata": {},
     "output_type": "execute_result"
    }
   ],
   "source": [
    "client.batches.retrieve('batch_687dbd826ff081909c5237ba6904947e') #[ID_HERE]\n",
    "#Call to check the status of data processing, once status='completed', note the content in output_file_id field."
   ]
  },
  {
   "cell_type": "code",
   "execution_count": 3,
   "id": "203a328f",
   "metadata": {},
   "outputs": [],
   "source": [
    "file_response = client.files.content('file-5Pc8qpWyfGepVmUb3KHBSH') #\"[OUTPUT_FILE_ID_HERE]\""
   ]
  },
  {
   "cell_type": "code",
   "execution_count": 4,
   "id": "28fd7fe5",
   "metadata": {},
   "outputs": [
    {
     "name": "stdout",
     "output_type": "stream",
     "text": [
      "JSONL file successfully written to output/batch_request_pt.jsonl\n",
      "Successfully read 13613 entries from output/batch_request_pt.jsonl.\n"
     ]
    }
   ],
   "source": [
    "save_file_response_as_jsonl(file_response, 'output/batch_request_pt.jsonl')\n",
    "prompted_result = read_jsonl_file('output/batch_request_pt.jsonl')\n",
    "parse_gpt_result(prompted_result, 'output/pii_pt_detected_2.csv')"
   ]
  }
 ],
 "metadata": {
  "kernelspec": {
   "display_name": "pvc",
   "language": "python",
   "name": "python3"
  },
  "language_info": {
   "codemirror_mode": {
    "name": "ipython",
    "version": 3
   },
   "file_extension": ".py",
   "mimetype": "text/x-python",
   "name": "python",
   "nbconvert_exporter": "python",
   "pygments_lexer": "ipython3",
   "version": "3.13.5"
  }
 },
 "nbformat": 4,
 "nbformat_minor": 5
}
